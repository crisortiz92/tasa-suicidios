{
 "cells": [
  {
   "cell_type": "markdown",
   "metadata": {},
   "source": [
    "# Análisis de clasificación de las tasas de suicidio"
   ]
  },
  {
   "cell_type": "markdown",
   "metadata": {},
   "source": [
    "En este trabajo se procedera a la clasificación y predicción de los grupos con alto riesgo de suicidio, por lo tanto, este análisis tiene como objetivo investigar si varias características como la edad, el sexo, la población, etc. tienen poder de clasificación para identificar grupos de alto riesgo, esto es importante para poder prevenir suicidios y crear planes de contingencia conociendo a que grupos intervenir más.\n",
    "\n",
    "Este es un análisis didáctico llevado a cabo en el taller de análisis de datos de la USFQ, por Cristhian Ortiz \n",
    "Se Usara el conjunto de datos \"Resumen de tasas de suicidios de 1985 a 2016\" de Kaggle "
   ]
  },
  {
   "cell_type": "code",
   "execution_count": 47,
   "metadata": {},
   "outputs": [],
   "source": [
    "#Cargar las librerias necesarias:\n",
    "\n",
    "import numpy as np\n",
    "import pandas as pd\n",
    "import seaborn as sns\n",
    "from sklearn.utils import resample\n",
    "from sklearn.preprocessing import LabelEncoder\n",
    "from sklearn.preprocessing import StandardScaler\n",
    "from sklearn import (\n",
    "    linear_model, metrics, neural_network, pipeline, preprocessing, model_selection\n",
    ")\n",
    "import matplotlib.pyplot as plt\n",
    "from sklearn.model_selection import GridSearchCV\n",
    "import warnings\n",
    "warnings.filterwarnings(\"ignore\")\n",
    "%matplotlib inline"
   ]
  },
  {
   "cell_type": "code",
   "execution_count": 48,
   "metadata": {},
   "outputs": [
    {
     "data": {
      "text/html": [
       "<div>\n",
       "<style scoped>\n",
       "    .dataframe tbody tr th:only-of-type {\n",
       "        vertical-align: middle;\n",
       "    }\n",
       "\n",
       "    .dataframe tbody tr th {\n",
       "        vertical-align: top;\n",
       "    }\n",
       "\n",
       "    .dataframe thead th {\n",
       "        text-align: right;\n",
       "    }\n",
       "</style>\n",
       "<table border=\"1\" class=\"dataframe\">\n",
       "  <thead>\n",
       "    <tr style=\"text-align: right;\">\n",
       "      <th></th>\n",
       "      <th>country</th>\n",
       "      <th>year</th>\n",
       "      <th>sex</th>\n",
       "      <th>age</th>\n",
       "      <th>suicides_no</th>\n",
       "      <th>population</th>\n",
       "      <th>suicides/100k pop</th>\n",
       "      <th>country-year</th>\n",
       "      <th>HDI for year</th>\n",
       "      <th>gdp_for_year ($)</th>\n",
       "      <th>gdp_per_capita ($)</th>\n",
       "      <th>generation</th>\n",
       "    </tr>\n",
       "  </thead>\n",
       "  <tbody>\n",
       "    <tr>\n",
       "      <th>0</th>\n",
       "      <td>Albania</td>\n",
       "      <td>1987</td>\n",
       "      <td>male</td>\n",
       "      <td>15-24 years</td>\n",
       "      <td>21</td>\n",
       "      <td>312900</td>\n",
       "      <td>6.71</td>\n",
       "      <td>Albania1987</td>\n",
       "      <td>nan</td>\n",
       "      <td>2,156,624,900</td>\n",
       "      <td>796</td>\n",
       "      <td>Generation X</td>\n",
       "    </tr>\n",
       "    <tr>\n",
       "      <th>1</th>\n",
       "      <td>Albania</td>\n",
       "      <td>1987</td>\n",
       "      <td>male</td>\n",
       "      <td>35-54 years</td>\n",
       "      <td>16</td>\n",
       "      <td>308000</td>\n",
       "      <td>5.19</td>\n",
       "      <td>Albania1987</td>\n",
       "      <td>nan</td>\n",
       "      <td>2,156,624,900</td>\n",
       "      <td>796</td>\n",
       "      <td>Silent</td>\n",
       "    </tr>\n",
       "    <tr>\n",
       "      <th>2</th>\n",
       "      <td>Albania</td>\n",
       "      <td>1987</td>\n",
       "      <td>female</td>\n",
       "      <td>15-24 years</td>\n",
       "      <td>14</td>\n",
       "      <td>289700</td>\n",
       "      <td>4.83</td>\n",
       "      <td>Albania1987</td>\n",
       "      <td>nan</td>\n",
       "      <td>2,156,624,900</td>\n",
       "      <td>796</td>\n",
       "      <td>Generation X</td>\n",
       "    </tr>\n",
       "    <tr>\n",
       "      <th>3</th>\n",
       "      <td>Albania</td>\n",
       "      <td>1987</td>\n",
       "      <td>male</td>\n",
       "      <td>75+ years</td>\n",
       "      <td>1</td>\n",
       "      <td>21800</td>\n",
       "      <td>4.59</td>\n",
       "      <td>Albania1987</td>\n",
       "      <td>nan</td>\n",
       "      <td>2,156,624,900</td>\n",
       "      <td>796</td>\n",
       "      <td>G.I. Generation</td>\n",
       "    </tr>\n",
       "    <tr>\n",
       "      <th>4</th>\n",
       "      <td>Albania</td>\n",
       "      <td>1987</td>\n",
       "      <td>male</td>\n",
       "      <td>25-34 years</td>\n",
       "      <td>9</td>\n",
       "      <td>274300</td>\n",
       "      <td>3.28</td>\n",
       "      <td>Albania1987</td>\n",
       "      <td>nan</td>\n",
       "      <td>2,156,624,900</td>\n",
       "      <td>796</td>\n",
       "      <td>Boomers</td>\n",
       "    </tr>\n",
       "  </tbody>\n",
       "</table>\n",
       "</div>"
      ],
      "text/plain": [
       "   country  year     sex          age  suicides_no  population  \\\n",
       "0  Albania  1987    male  15-24 years           21      312900   \n",
       "1  Albania  1987    male  35-54 years           16      308000   \n",
       "2  Albania  1987  female  15-24 years           14      289700   \n",
       "3  Albania  1987    male    75+ years            1       21800   \n",
       "4  Albania  1987    male  25-34 years            9      274300   \n",
       "\n",
       "   suicides/100k pop country-year  HDI for year  gdp_for_year ($)   \\\n",
       "0               6.71  Albania1987           nan      2,156,624,900   \n",
       "1               5.19  Albania1987           nan      2,156,624,900   \n",
       "2               4.83  Albania1987           nan      2,156,624,900   \n",
       "3               4.59  Albania1987           nan      2,156,624,900   \n",
       "4               3.28  Albania1987           nan      2,156,624,900   \n",
       "\n",
       "   gdp_per_capita ($)       generation  \n",
       "0                 796     Generation X  \n",
       "1                 796           Silent  \n",
       "2                 796     Generation X  \n",
       "3                 796  G.I. Generation  \n",
       "4                 796          Boomers  "
      ]
     },
     "execution_count": 48,
     "metadata": {},
     "output_type": "execute_result"
    }
   ],
   "source": [
    "#Importamos la data.\n",
    "data = pd.read_csv(\"Suicidios.csv\")\n",
    "\n",
    "#Exploramos el numero de columnas.\n",
    "data.columns\n",
    "data.head()\n"
   ]
  },
  {
   "cell_type": "code",
   "execution_count": 49,
   "metadata": {},
   "outputs": [
    {
     "data": {
      "text/html": [
       "<div>\n",
       "<style scoped>\n",
       "    .dataframe tbody tr th:only-of-type {\n",
       "        vertical-align: middle;\n",
       "    }\n",
       "\n",
       "    .dataframe tbody tr th {\n",
       "        vertical-align: top;\n",
       "    }\n",
       "\n",
       "    .dataframe thead th {\n",
       "        text-align: right;\n",
       "    }\n",
       "</style>\n",
       "<table border=\"1\" class=\"dataframe\">\n",
       "  <thead>\n",
       "    <tr style=\"text-align: right;\">\n",
       "      <th></th>\n",
       "      <th>country</th>\n",
       "      <th>year</th>\n",
       "      <th>sex</th>\n",
       "      <th>age</th>\n",
       "      <th>suicides_no</th>\n",
       "      <th>population</th>\n",
       "      <th>suicides_per_100k_pop</th>\n",
       "      <th>country-year</th>\n",
       "      <th>HDI_for_year</th>\n",
       "      <th>gdp_for_year</th>\n",
       "      <th>gdp_per_capita</th>\n",
       "      <th>generation</th>\n",
       "    </tr>\n",
       "  </thead>\n",
       "  <tbody>\n",
       "    <tr>\n",
       "      <th>0</th>\n",
       "      <td>Albania</td>\n",
       "      <td>1987</td>\n",
       "      <td>male</td>\n",
       "      <td>15-24 years</td>\n",
       "      <td>21</td>\n",
       "      <td>312900</td>\n",
       "      <td>6.71</td>\n",
       "      <td>Albania1987</td>\n",
       "      <td>nan</td>\n",
       "      <td>2,156,624,900</td>\n",
       "      <td>796</td>\n",
       "      <td>Generation X</td>\n",
       "    </tr>\n",
       "    <tr>\n",
       "      <th>1</th>\n",
       "      <td>Albania</td>\n",
       "      <td>1987</td>\n",
       "      <td>male</td>\n",
       "      <td>35-54 years</td>\n",
       "      <td>16</td>\n",
       "      <td>308000</td>\n",
       "      <td>5.19</td>\n",
       "      <td>Albania1987</td>\n",
       "      <td>nan</td>\n",
       "      <td>2,156,624,900</td>\n",
       "      <td>796</td>\n",
       "      <td>Silent</td>\n",
       "    </tr>\n",
       "    <tr>\n",
       "      <th>2</th>\n",
       "      <td>Albania</td>\n",
       "      <td>1987</td>\n",
       "      <td>female</td>\n",
       "      <td>15-24 years</td>\n",
       "      <td>14</td>\n",
       "      <td>289700</td>\n",
       "      <td>4.83</td>\n",
       "      <td>Albania1987</td>\n",
       "      <td>nan</td>\n",
       "      <td>2,156,624,900</td>\n",
       "      <td>796</td>\n",
       "      <td>Generation X</td>\n",
       "    </tr>\n",
       "    <tr>\n",
       "      <th>3</th>\n",
       "      <td>Albania</td>\n",
       "      <td>1987</td>\n",
       "      <td>male</td>\n",
       "      <td>75+ years</td>\n",
       "      <td>1</td>\n",
       "      <td>21800</td>\n",
       "      <td>4.59</td>\n",
       "      <td>Albania1987</td>\n",
       "      <td>nan</td>\n",
       "      <td>2,156,624,900</td>\n",
       "      <td>796</td>\n",
       "      <td>G.I. Generation</td>\n",
       "    </tr>\n",
       "    <tr>\n",
       "      <th>4</th>\n",
       "      <td>Albania</td>\n",
       "      <td>1987</td>\n",
       "      <td>male</td>\n",
       "      <td>25-34 years</td>\n",
       "      <td>9</td>\n",
       "      <td>274300</td>\n",
       "      <td>3.28</td>\n",
       "      <td>Albania1987</td>\n",
       "      <td>nan</td>\n",
       "      <td>2,156,624,900</td>\n",
       "      <td>796</td>\n",
       "      <td>Boomers</td>\n",
       "    </tr>\n",
       "  </tbody>\n",
       "</table>\n",
       "</div>"
      ],
      "text/plain": [
       "   country  year     sex          age  suicides_no  population  \\\n",
       "0  Albania  1987    male  15-24 years           21      312900   \n",
       "1  Albania  1987    male  35-54 years           16      308000   \n",
       "2  Albania  1987  female  15-24 years           14      289700   \n",
       "3  Albania  1987    male    75+ years            1       21800   \n",
       "4  Albania  1987    male  25-34 years            9      274300   \n",
       "\n",
       "   suicides_per_100k_pop country-year  HDI_for_year   gdp_for_year  \\\n",
       "0                   6.71  Albania1987           nan  2,156,624,900   \n",
       "1                   5.19  Albania1987           nan  2,156,624,900   \n",
       "2                   4.83  Albania1987           nan  2,156,624,900   \n",
       "3                   4.59  Albania1987           nan  2,156,624,900   \n",
       "4                   3.28  Albania1987           nan  2,156,624,900   \n",
       "\n",
       "   gdp_per_capita       generation  \n",
       "0             796     Generation X  \n",
       "1             796           Silent  \n",
       "2             796     Generation X  \n",
       "3             796  G.I. Generation  \n",
       "4             796          Boomers  "
      ]
     },
     "execution_count": 49,
     "metadata": {},
     "output_type": "execute_result"
    }
   ],
   "source": [
    "#Cambiar nombre a las columnas\n",
    "data.columns = [\"country\", \"year\", \"sex\", \"age\", \"suicides_no\", \"population\", \"suicides_per_100k_pop\", \"country-year\", \"HDI_for_year\", \"gdp_for_year\", \"gdp_per_capita\", \"generation\"]\n",
    "data.head()"
   ]
  },
  {
   "cell_type": "markdown",
   "metadata": {},
   "source": [
    "#### Análisis exploratorio"
   ]
  },
  {
   "cell_type": "code",
   "execution_count": 50,
   "metadata": {},
   "outputs": [
    {
     "data": {
      "text/html": [
       "<div>\n",
       "<style scoped>\n",
       "    .dataframe tbody tr th:only-of-type {\n",
       "        vertical-align: middle;\n",
       "    }\n",
       "\n",
       "    .dataframe tbody tr th {\n",
       "        vertical-align: top;\n",
       "    }\n",
       "\n",
       "    .dataframe thead th {\n",
       "        text-align: right;\n",
       "    }\n",
       "</style>\n",
       "<table border=\"1\" class=\"dataframe\">\n",
       "  <thead>\n",
       "    <tr style=\"text-align: right;\">\n",
       "      <th></th>\n",
       "      <th>country</th>\n",
       "      <th>year</th>\n",
       "      <th>sex</th>\n",
       "      <th>age</th>\n",
       "      <th>suicides_no</th>\n",
       "      <th>population</th>\n",
       "      <th>suicides_per_100k_pop</th>\n",
       "      <th>country-year</th>\n",
       "      <th>HDI_for_year</th>\n",
       "      <th>gdp_for_year</th>\n",
       "      <th>gdp_per_capita</th>\n",
       "      <th>generation</th>\n",
       "      <th>risk</th>\n",
       "    </tr>\n",
       "  </thead>\n",
       "  <tbody>\n",
       "    <tr>\n",
       "      <th>0</th>\n",
       "      <td>Albania</td>\n",
       "      <td>1987</td>\n",
       "      <td>male</td>\n",
       "      <td>15-24 years</td>\n",
       "      <td>21</td>\n",
       "      <td>312900</td>\n",
       "      <td>6.71</td>\n",
       "      <td>Albania1987</td>\n",
       "      <td>nan</td>\n",
       "      <td>2,156,624,900</td>\n",
       "      <td>796</td>\n",
       "      <td>Generation X</td>\n",
       "      <td>0</td>\n",
       "    </tr>\n",
       "    <tr>\n",
       "      <th>1</th>\n",
       "      <td>Albania</td>\n",
       "      <td>1987</td>\n",
       "      <td>male</td>\n",
       "      <td>35-54 years</td>\n",
       "      <td>16</td>\n",
       "      <td>308000</td>\n",
       "      <td>5.19</td>\n",
       "      <td>Albania1987</td>\n",
       "      <td>nan</td>\n",
       "      <td>2,156,624,900</td>\n",
       "      <td>796</td>\n",
       "      <td>Silent</td>\n",
       "      <td>0</td>\n",
       "    </tr>\n",
       "    <tr>\n",
       "      <th>2</th>\n",
       "      <td>Albania</td>\n",
       "      <td>1987</td>\n",
       "      <td>female</td>\n",
       "      <td>15-24 years</td>\n",
       "      <td>14</td>\n",
       "      <td>289700</td>\n",
       "      <td>4.83</td>\n",
       "      <td>Albania1987</td>\n",
       "      <td>nan</td>\n",
       "      <td>2,156,624,900</td>\n",
       "      <td>796</td>\n",
       "      <td>Generation X</td>\n",
       "      <td>0</td>\n",
       "    </tr>\n",
       "    <tr>\n",
       "      <th>3</th>\n",
       "      <td>Albania</td>\n",
       "      <td>1987</td>\n",
       "      <td>male</td>\n",
       "      <td>75+ years</td>\n",
       "      <td>1</td>\n",
       "      <td>21800</td>\n",
       "      <td>4.59</td>\n",
       "      <td>Albania1987</td>\n",
       "      <td>nan</td>\n",
       "      <td>2,156,624,900</td>\n",
       "      <td>796</td>\n",
       "      <td>G.I. Generation</td>\n",
       "      <td>0</td>\n",
       "    </tr>\n",
       "    <tr>\n",
       "      <th>4</th>\n",
       "      <td>Albania</td>\n",
       "      <td>1987</td>\n",
       "      <td>male</td>\n",
       "      <td>25-34 years</td>\n",
       "      <td>9</td>\n",
       "      <td>274300</td>\n",
       "      <td>3.28</td>\n",
       "      <td>Albania1987</td>\n",
       "      <td>nan</td>\n",
       "      <td>2,156,624,900</td>\n",
       "      <td>796</td>\n",
       "      <td>Boomers</td>\n",
       "      <td>0</td>\n",
       "    </tr>\n",
       "  </tbody>\n",
       "</table>\n",
       "</div>"
      ],
      "text/plain": [
       "   country  year     sex          age  suicides_no  population  \\\n",
       "0  Albania  1987    male  15-24 years           21      312900   \n",
       "1  Albania  1987    male  35-54 years           16      308000   \n",
       "2  Albania  1987  female  15-24 years           14      289700   \n",
       "3  Albania  1987    male    75+ years            1       21800   \n",
       "4  Albania  1987    male  25-34 years            9      274300   \n",
       "\n",
       "   suicides_per_100k_pop country-year  HDI_for_year   gdp_for_year  \\\n",
       "0                   6.71  Albania1987           nan  2,156,624,900   \n",
       "1                   5.19  Albania1987           nan  2,156,624,900   \n",
       "2                   4.83  Albania1987           nan  2,156,624,900   \n",
       "3                   4.59  Albania1987           nan  2,156,624,900   \n",
       "4                   3.28  Albania1987           nan  2,156,624,900   \n",
       "\n",
       "   gdp_per_capita       generation  risk  \n",
       "0             796     Generation X     0  \n",
       "1             796           Silent     0  \n",
       "2             796     Generation X     0  \n",
       "3             796  G.I. Generation     0  \n",
       "4             796          Boomers     0  "
      ]
     },
     "execution_count": 50,
     "metadata": {},
     "output_type": "execute_result"
    }
   ],
   "source": [
    "#Crearemos una nueva varible dummy (risk) \n",
    "\n",
    "#Si la tasa de suicidios por 100k hab > al promedio de suicidios por 100k, seran de alto riesgo,\n",
    "#caso contrario son de bajo riesgo.\n",
    "\n",
    "mean = data[\"suicides_per_100k_pop\"].mean()\n",
    "data['risk'] = (data[\"suicides_per_100k_pop\"] >= mean) * 1\n",
    "data.head()"
   ]
  },
  {
   "cell_type": "code",
   "execution_count": 51,
   "metadata": {},
   "outputs": [
    {
     "data": {
      "text/plain": [
       "12.816097411933894"
      ]
     },
     "execution_count": 51,
     "metadata": {},
     "output_type": "execute_result"
    }
   ],
   "source": [
    "mean"
   ]
  },
  {
   "cell_type": "code",
   "execution_count": 52,
   "metadata": {},
   "outputs": [
    {
     "data": {
      "text/plain": [
       "country                      0\n",
       "year                         0\n",
       "sex                          0\n",
       "age                          0\n",
       "suicides_no                  0\n",
       "population                   0\n",
       "suicides_per_100k_pop        0\n",
       "country-year                 0\n",
       "HDI_for_year             19456\n",
       "gdp_for_year                 0\n",
       "gdp_per_capita               0\n",
       "generation                   0\n",
       "risk                         0\n",
       "dtype: int64"
      ]
     },
     "execution_count": 52,
     "metadata": {},
     "output_type": "execute_result"
    }
   ],
   "source": [
    "#Vemos si existen valores perdidos\n",
    "data.isnull().sum()"
   ]
  },
  {
   "cell_type": "markdown",
   "metadata": {},
   "source": [
    "#### Limpiando la data"
   ]
  },
  {
   "cell_type": "code",
   "execution_count": 53,
   "metadata": {},
   "outputs": [
    {
     "name": "stdout",
     "output_type": "stream",
     "text": [
      "<class 'pandas.core.frame.DataFrame'>\n",
      "RangeIndex: 27820 entries, 0 to 27819\n",
      "Data columns (total 13 columns):\n",
      " #   Column                 Non-Null Count  Dtype  \n",
      "---  ------                 --------------  -----  \n",
      " 0   country                27820 non-null  object \n",
      " 1   year                   27820 non-null  int64  \n",
      " 2   sex                    27820 non-null  object \n",
      " 3   age                    27820 non-null  object \n",
      " 4   suicides_no            27820 non-null  int64  \n",
      " 5   population             27820 non-null  int64  \n",
      " 6   suicides_per_100k_pop  27820 non-null  float64\n",
      " 7   country-year           27820 non-null  object \n",
      " 8   HDI_for_year           8364 non-null   float64\n",
      " 9   gdp_for_year           27820 non-null  object \n",
      " 10  gdp_per_capita         27820 non-null  int64  \n",
      " 11  generation             27820 non-null  object \n",
      " 12  risk                   27820 non-null  int32  \n",
      "dtypes: float64(2), int32(1), int64(4), object(6)\n",
      "memory usage: 2.7+ MB\n"
     ]
    }
   ],
   "source": [
    "# Información sobre los datos\n",
    "data.info()"
   ]
  },
  {
   "cell_type": "code",
   "execution_count": 54,
   "metadata": {},
   "outputs": [],
   "source": [
    "# Eliminamos comas de la columna \"gdp_for_year\"\n",
    "data['gdp_for_year'] = data['gdp_for_year'].str.replace(',', '')\n",
    "\n",
    "# Eliminamos HDI_for_year debido a muchos valores nulos (NAN)\n",
    "data = data.drop([\"HDI_for_year\"], axis = 1)\n"
   ]
  },
  {
   "cell_type": "code",
   "execution_count": 55,
   "metadata": {},
   "outputs": [
    {
     "data": {
      "text/plain": [
       "country                  False\n",
       "year                     False\n",
       "sex                      False\n",
       "age                      False\n",
       "suicides_no              False\n",
       "population               False\n",
       "suicides_per_100k_pop    False\n",
       "country-year             False\n",
       "gdp_for_year             False\n",
       "gdp_per_capita           False\n",
       "generation               False\n",
       "risk                     False\n",
       "dtype: bool"
      ]
     },
     "execution_count": 55,
     "metadata": {},
     "output_type": "execute_result"
    }
   ],
   "source": [
    "#Vemos si existen valores perdidos\n",
    "data.isnull().any()"
   ]
  },
  {
   "cell_type": "code",
   "execution_count": 56,
   "metadata": {},
   "outputs": [
    {
     "name": "stdout",
     "output_type": "stream",
     "text": [
      "<class 'pandas.core.frame.DataFrame'>\n",
      "RangeIndex: 27820 entries, 0 to 27819\n",
      "Data columns (total 12 columns):\n",
      " #   Column                 Non-Null Count  Dtype  \n",
      "---  ------                 --------------  -----  \n",
      " 0   country                27820 non-null  object \n",
      " 1   year                   27820 non-null  int64  \n",
      " 2   sex                    27820 non-null  object \n",
      " 3   age                    27820 non-null  object \n",
      " 4   suicides_no            27820 non-null  int64  \n",
      " 5   population             27820 non-null  int64  \n",
      " 6   suicides_per_100k_pop  27820 non-null  float64\n",
      " 7   country-year           27820 non-null  object \n",
      " 8   gdp_for_year           27820 non-null  object \n",
      " 9   gdp_per_capita         27820 non-null  int64  \n",
      " 10  generation             27820 non-null  object \n",
      " 11  risk                   27820 non-null  int32  \n",
      "dtypes: float64(1), int32(1), int64(4), object(6)\n",
      "memory usage: 2.4+ MB\n"
     ]
    }
   ],
   "source": [
    "#Volvemos a revisar que nuestras variables sean el tipo de dato necesario para el analisis\n",
    "data.info()"
   ]
  },
  {
   "cell_type": "code",
   "execution_count": 57,
   "metadata": {},
   "outputs": [],
   "source": [
    "# Cambianos el tipo de dato del PIB\n",
    "data[\"gdp_for_year\"] = data[\"gdp_for_year\"].astype(float)"
   ]
  },
  {
   "cell_type": "code",
   "execution_count": 58,
   "metadata": {},
   "outputs": [
    {
     "data": {
      "text/html": [
       "<div>\n",
       "<style scoped>\n",
       "    .dataframe tbody tr th:only-of-type {\n",
       "        vertical-align: middle;\n",
       "    }\n",
       "\n",
       "    .dataframe tbody tr th {\n",
       "        vertical-align: top;\n",
       "    }\n",
       "\n",
       "    .dataframe thead th {\n",
       "        text-align: right;\n",
       "    }\n",
       "</style>\n",
       "<table border=\"1\" class=\"dataframe\">\n",
       "  <thead>\n",
       "    <tr style=\"text-align: right;\">\n",
       "      <th></th>\n",
       "      <th>year</th>\n",
       "      <th>suicides_no</th>\n",
       "      <th>population</th>\n",
       "      <th>suicides_per_100k_pop</th>\n",
       "      <th>gdp_for_year</th>\n",
       "      <th>gdp_per_capita</th>\n",
       "      <th>risk</th>\n",
       "    </tr>\n",
       "  </thead>\n",
       "  <tbody>\n",
       "    <tr>\n",
       "      <th>count</th>\n",
       "      <td>27820.00</td>\n",
       "      <td>27820.00</td>\n",
       "      <td>27820.00</td>\n",
       "      <td>27820.00</td>\n",
       "      <td>27820.00</td>\n",
       "      <td>27820.00</td>\n",
       "      <td>27820.00</td>\n",
       "    </tr>\n",
       "    <tr>\n",
       "      <th>mean</th>\n",
       "      <td>2001.26</td>\n",
       "      <td>242.57</td>\n",
       "      <td>1844793.62</td>\n",
       "      <td>12.82</td>\n",
       "      <td>445580969025.73</td>\n",
       "      <td>16866.46</td>\n",
       "      <td>0.31</td>\n",
       "    </tr>\n",
       "    <tr>\n",
       "      <th>std</th>\n",
       "      <td>8.47</td>\n",
       "      <td>902.05</td>\n",
       "      <td>3911779.44</td>\n",
       "      <td>18.96</td>\n",
       "      <td>1453609985940.92</td>\n",
       "      <td>18887.58</td>\n",
       "      <td>0.46</td>\n",
       "    </tr>\n",
       "    <tr>\n",
       "      <th>min</th>\n",
       "      <td>1985.00</td>\n",
       "      <td>0.00</td>\n",
       "      <td>278.00</td>\n",
       "      <td>0.00</td>\n",
       "      <td>46919625.00</td>\n",
       "      <td>251.00</td>\n",
       "      <td>0.00</td>\n",
       "    </tr>\n",
       "    <tr>\n",
       "      <th>25%</th>\n",
       "      <td>1995.00</td>\n",
       "      <td>3.00</td>\n",
       "      <td>97498.50</td>\n",
       "      <td>0.92</td>\n",
       "      <td>8985352832.00</td>\n",
       "      <td>3447.00</td>\n",
       "      <td>0.00</td>\n",
       "    </tr>\n",
       "    <tr>\n",
       "      <th>50%</th>\n",
       "      <td>2002.00</td>\n",
       "      <td>25.00</td>\n",
       "      <td>430150.00</td>\n",
       "      <td>5.99</td>\n",
       "      <td>48114688201.00</td>\n",
       "      <td>9372.00</td>\n",
       "      <td>0.00</td>\n",
       "    </tr>\n",
       "    <tr>\n",
       "      <th>75%</th>\n",
       "      <td>2008.00</td>\n",
       "      <td>131.00</td>\n",
       "      <td>1486143.25</td>\n",
       "      <td>16.62</td>\n",
       "      <td>260202429150.00</td>\n",
       "      <td>24874.00</td>\n",
       "      <td>1.00</td>\n",
       "    </tr>\n",
       "    <tr>\n",
       "      <th>max</th>\n",
       "      <td>2016.00</td>\n",
       "      <td>22338.00</td>\n",
       "      <td>43805214.00</td>\n",
       "      <td>224.97</td>\n",
       "      <td>18120714000000.00</td>\n",
       "      <td>126352.00</td>\n",
       "      <td>1.00</td>\n",
       "    </tr>\n",
       "  </tbody>\n",
       "</table>\n",
       "</div>"
      ],
      "text/plain": [
       "          year  suicides_no  population  suicides_per_100k_pop  \\\n",
       "count 27820.00     27820.00    27820.00               27820.00   \n",
       "mean   2001.26       242.57  1844793.62                  12.82   \n",
       "std       8.47       902.05  3911779.44                  18.96   \n",
       "min    1985.00         0.00      278.00                   0.00   \n",
       "25%    1995.00         3.00    97498.50                   0.92   \n",
       "50%    2002.00        25.00   430150.00                   5.99   \n",
       "75%    2008.00       131.00  1486143.25                  16.62   \n",
       "max    2016.00     22338.00 43805214.00                 224.97   \n",
       "\n",
       "           gdp_for_year  gdp_per_capita     risk  \n",
       "count          27820.00        27820.00 27820.00  \n",
       "mean    445580969025.73        16866.46     0.31  \n",
       "std    1453609985940.92        18887.58     0.46  \n",
       "min         46919625.00          251.00     0.00  \n",
       "25%       8985352832.00         3447.00     0.00  \n",
       "50%      48114688201.00         9372.00     0.00  \n",
       "75%     260202429150.00        24874.00     1.00  \n",
       "max   18120714000000.00       126352.00     1.00  "
      ]
     },
     "execution_count": 58,
     "metadata": {},
     "output_type": "execute_result"
    }
   ],
   "source": [
    "# Trabajaremoscon 2 decimales places\n",
    "pd.options.display.float_format = \"{:.2f}\".format\n",
    "data.describe()"
   ]
  },
  {
   "cell_type": "code",
   "execution_count": 59,
   "metadata": {},
   "outputs": [
    {
     "data": {
      "text/plain": [
       "country                    101\n",
       "year                        32\n",
       "sex                          2\n",
       "age                          6\n",
       "suicides_no               2084\n",
       "population               25564\n",
       "suicides_per_100k_pop     5298\n",
       "country-year              2321\n",
       "gdp_for_year              2321\n",
       "gdp_per_capita            2233\n",
       "generation                   6\n",
       "risk                         2\n",
       "dtype: int64"
      ]
     },
     "execution_count": 59,
     "metadata": {},
     "output_type": "execute_result"
    }
   ],
   "source": [
    "# Numero de Valores unico \n",
    "data.nunique()"
   ]
  },
  {
   "cell_type": "code",
   "execution_count": 60,
   "metadata": {},
   "outputs": [
    {
     "name": "stdout",
     "output_type": "stream",
     "text": [
      "\u001b[1m  country unique values: \u001b[0m\n",
      "\n",
      "['Albania' 'Antigua and Barbuda' 'Argentina' 'Armenia' 'Aruba' 'Australia'\n",
      " 'Austria' 'Azerbaijan' 'Bahamas' 'Bahrain' 'Barbados' 'Belarus' 'Belgium'\n",
      " 'Belize' 'Bosnia and Herzegovina' 'Brazil' 'Bulgaria' 'Cabo Verde'\n",
      " 'Canada' 'Chile' 'Colombia' 'Costa Rica' 'Croatia' 'Cuba' 'Cyprus'\n",
      " 'Czech Republic' 'Denmark' 'Dominica' 'Ecuador' 'El Salvador' 'Estonia'\n",
      " 'Fiji' 'Finland' 'France' 'Georgia' 'Germany' 'Greece' 'Grenada'\n",
      " 'Guatemala' 'Guyana' 'Hungary' 'Iceland' 'Ireland' 'Israel' 'Italy'\n",
      " 'Jamaica' 'Japan' 'Kazakhstan' 'Kiribati' 'Kuwait' 'Kyrgyzstan' 'Latvia'\n",
      " 'Lithuania' 'Luxembourg' 'Macau' 'Maldives' 'Malta' 'Mauritius' 'Mexico'\n",
      " 'Mongolia' 'Montenegro' 'Netherlands' 'New Zealand' 'Nicaragua' 'Norway'\n",
      " 'Oman' 'Panama' 'Paraguay' 'Philippines' 'Poland' 'Portugal'\n",
      " 'Puerto Rico' 'Qatar' 'Republic of Korea' 'Romania' 'Russian Federation'\n",
      " 'Saint Kitts and Nevis' 'Saint Lucia' 'Saint Vincent and Grenadines'\n",
      " 'San Marino' 'Serbia' 'Seychelles' 'Singapore' 'Slovakia' 'Slovenia'\n",
      " 'South Africa' 'Spain' 'Sri Lanka' 'Suriname' 'Sweden' 'Switzerland'\n",
      " 'Thailand' 'Trinidad and Tobago' 'Turkey' 'Turkmenistan' 'Ukraine'\n",
      " 'United Arab Emirates' 'United Kingdom' 'United States' 'Uruguay'\n",
      " 'Uzbekistan']\n",
      "\n",
      "\u001b[1m  year unique values: \u001b[0m\n",
      "\n",
      "[1987 1988 1989 1992 1993 1994 1995 1996 1997 1998 1999 2000 2001 2002\n",
      " 2003 2004 2005 2006 2007 2008 2009 2010 1985 1986 1990 1991 2012 2013\n",
      " 2014 2015 2011 2016]\n",
      "\n",
      "\u001b[1m  sex unique values: \u001b[0m\n",
      "\n",
      "['male' 'female']\n",
      "\n",
      "\u001b[1m  age unique values: \u001b[0m\n",
      "\n",
      "['15-24 years' '35-54 years' '75+ years' '25-34 years' '55-74 years'\n",
      " '5-14 years']\n",
      "\n",
      "\u001b[1m  generation unique values: \u001b[0m\n",
      "\n",
      "['Generation X' 'Silent' 'G.I. Generation' 'Boomers' 'Millenials'\n",
      " 'Generation Z']\n",
      "\n",
      "\u001b[1m  risk unique values: \u001b[0m\n",
      "\n",
      "[0 1]\n",
      "\n"
     ]
    }
   ],
   "source": [
    "# Valores unicos para las columnas de interes\n",
    "cols = data[[\"country\", \"year\", \"sex\", \"age\", \"generation\", \"risk\"]]\n",
    "\n",
    "for column in list(cols):\n",
    "    print(f\"\\033[1m  {column} unique values: \\033[0m\")\n",
    "    print(\"\")\n",
    "    print(data[column].unique())\n",
    "    print(\"\")"
   ]
  },
  {
   "cell_type": "markdown",
   "metadata": {},
   "source": [
    "#### Matriz de Correlacion y mapa de Calor"
   ]
  },
  {
   "cell_type": "code",
   "execution_count": 61,
   "metadata": {},
   "outputs": [
    {
     "data": {
      "text/html": [
       "<div>\n",
       "<style scoped>\n",
       "    .dataframe tbody tr th:only-of-type {\n",
       "        vertical-align: middle;\n",
       "    }\n",
       "\n",
       "    .dataframe tbody tr th {\n",
       "        vertical-align: top;\n",
       "    }\n",
       "\n",
       "    .dataframe thead th {\n",
       "        text-align: right;\n",
       "    }\n",
       "</style>\n",
       "<table border=\"1\" class=\"dataframe\">\n",
       "  <thead>\n",
       "    <tr style=\"text-align: right;\">\n",
       "      <th></th>\n",
       "      <th>year</th>\n",
       "      <th>suicides_no</th>\n",
       "      <th>population</th>\n",
       "      <th>suicides_per_100k_pop</th>\n",
       "      <th>gdp_for_year</th>\n",
       "      <th>gdp_per_capita</th>\n",
       "    </tr>\n",
       "  </thead>\n",
       "  <tbody>\n",
       "    <tr>\n",
       "      <th>year</th>\n",
       "      <td>1.00</td>\n",
       "      <td>-0.00</td>\n",
       "      <td>0.01</td>\n",
       "      <td>-0.04</td>\n",
       "      <td>0.09</td>\n",
       "      <td>0.34</td>\n",
       "    </tr>\n",
       "    <tr>\n",
       "      <th>suicides_no</th>\n",
       "      <td>-0.00</td>\n",
       "      <td>1.00</td>\n",
       "      <td>0.62</td>\n",
       "      <td>0.31</td>\n",
       "      <td>0.43</td>\n",
       "      <td>0.06</td>\n",
       "    </tr>\n",
       "    <tr>\n",
       "      <th>population</th>\n",
       "      <td>0.01</td>\n",
       "      <td>0.62</td>\n",
       "      <td>1.00</td>\n",
       "      <td>0.01</td>\n",
       "      <td>0.71</td>\n",
       "      <td>0.08</td>\n",
       "    </tr>\n",
       "    <tr>\n",
       "      <th>suicides_per_100k_pop</th>\n",
       "      <td>-0.04</td>\n",
       "      <td>0.31</td>\n",
       "      <td>0.01</td>\n",
       "      <td>1.00</td>\n",
       "      <td>0.03</td>\n",
       "      <td>0.00</td>\n",
       "    </tr>\n",
       "    <tr>\n",
       "      <th>gdp_for_year</th>\n",
       "      <td>0.09</td>\n",
       "      <td>0.43</td>\n",
       "      <td>0.71</td>\n",
       "      <td>0.03</td>\n",
       "      <td>1.00</td>\n",
       "      <td>0.30</td>\n",
       "    </tr>\n",
       "    <tr>\n",
       "      <th>gdp_per_capita</th>\n",
       "      <td>0.34</td>\n",
       "      <td>0.06</td>\n",
       "      <td>0.08</td>\n",
       "      <td>0.00</td>\n",
       "      <td>0.30</td>\n",
       "      <td>1.00</td>\n",
       "    </tr>\n",
       "  </tbody>\n",
       "</table>\n",
       "</div>"
      ],
      "text/plain": [
       "                       year  suicides_no  population  suicides_per_100k_pop  \\\n",
       "year                   1.00        -0.00        0.01                  -0.04   \n",
       "suicides_no           -0.00         1.00        0.62                   0.31   \n",
       "population             0.01         0.62        1.00                   0.01   \n",
       "suicides_per_100k_pop -0.04         0.31        0.01                   1.00   \n",
       "gdp_for_year           0.09         0.43        0.71                   0.03   \n",
       "gdp_per_capita         0.34         0.06        0.08                   0.00   \n",
       "\n",
       "                       gdp_for_year  gdp_per_capita  \n",
       "year                           0.09            0.34  \n",
       "suicides_no                    0.43            0.06  \n",
       "population                     0.71            0.08  \n",
       "suicides_per_100k_pop          0.03            0.00  \n",
       "gdp_for_year                   1.00            0.30  \n",
       "gdp_per_capita                 0.30            1.00  "
      ]
     },
     "execution_count": 61,
     "metadata": {},
     "output_type": "execute_result"
    }
   ],
   "source": [
    "# MAtriz de correlacion para variables continuas\n",
    "continuous = data.drop([\"risk\"], axis = 1)\n",
    "corr = continuous.corr()\n",
    "corr"
   ]
  },
  {
   "cell_type": "code",
   "execution_count": 62,
   "metadata": {},
   "outputs": [
    {
     "data": {
      "text/plain": [
       "Text(0.06, -0.16, 'Fig. 1. Mapa de Calor Correlacion')"
      ]
     },
     "execution_count": 62,
     "metadata": {},
     "output_type": "execute_result"
    },
    {
     "data": {
      "image/png": "[encoded data removed]",
      "text/plain": [
       "<Figure size 864x720 with 2 Axes>"
      ]
     },
     "metadata": {
      "needs_background": "light"
     },
     "output_type": "display_data"
    }
   ],
   "source": [
    "#Mapa de calor para variables continuas\n",
    "\n",
    "# Triangulo inferior\n",
    "corr_lower = corr.where(np.tril(np.ones(corr.shape)).astype(np.bool))\n",
    "\n",
    "fig, ax = plt.subplots(figsize = (12,10))\n",
    "\n",
    "ax = sns.heatmap(corr_lower, cmap = \"Blues\",annot = True, \n",
    "                 linewidths = 0.5, cbar_kws={\"shrink\": .7})\n",
    "\n",
    "ax.tick_params(axis = \"both\", labelsize = 13)\n",
    "\n",
    "bottom, top = ax.get_ylim()\n",
    "ax.set_ylim(bottom + 0.5, top - 0.5)\n",
    "\n",
    "fig.text(0.06,-0.16,\"Fig. 1. Mapa de Calor Correlacion\", fontsize = 17, fontweight = \"bold\")\n"
   ]
  },
  {
   "cell_type": "markdown",
   "metadata": {},
   "source": [
    "#### Total de suicidios por año"
   ]
  },
  {
   "cell_type": "code",
   "execution_count": 63,
   "metadata": {},
   "outputs": [
    {
     "data": {
      "image/png": "[encoded data removed]",
      "text/plain": [
       "<Figure size 576x432 with 1 Axes>"
      ]
     },
     "metadata": {
      "needs_background": "light"
     },
     "output_type": "display_data"
    }
   ],
   "source": [
    "yearly_data = data.groupby(\"year\").sum()\n",
    "\n",
    "# Graficar\n",
    "yearly_data.reset_index(level = 0, inplace = True)\n",
    "plt.rcParams[\"figure.figsize\"] = [8, 6]\n",
    "yearly_suicide_graph = yearly_data.plot(kind = \"line\", x = \"year\", y = \"suicides_no\")\n",
    "\n",
    "# Nombres a los Ejes\n",
    "yearly_suicide_graph.set_xlabel(\"Año\", size = 14)\n",
    "yearly_suicide_graph.set_ylabel(\"Total de Suicidios\", size = 14)\n",
    "yearly_suicide_graph.set_title(\"Fig. 2. Numero total de suicidios en el mundo desde 1985 hasta 2016\"\n",
    "                               , x = 0.45, y = -0.22, \n",
    "                               size = 14, fontweight = \"bold\")\n",
    "\n",
    "# Mejores visuales\n",
    "yearly_suicide_graph.spines[\"right\"].set_visible(False)\n",
    "yearly_suicide_graph.spines[\"top\"].set_visible(False)\n",
    "yearly_suicide_graph.get_legend().remove()\n",
    "\n",
    "# Lineas entrecortadas horizontales\n",
    "yearly_suicide_graph.set_axisbelow(True)\n",
    "yearly_suicide_graph.yaxis.grid(color = \"gray\", linestyle = \"dashed\")"
   ]
  },
  {
   "cell_type": "markdown",
   "metadata": {},
   "source": [
    "#### Total de Suicidios por Año y por Genero "
   ]
  },
  {
   "cell_type": "code",
   "execution_count": 64,
   "metadata": {},
   "outputs": [
    {
     "name": "stdout",
     "output_type": "stream",
     "text": [
      "Numero de hombres y Mujeres:\n"
     ]
    },
    {
     "data": {
      "text/plain": [
       "female    13910\n",
       "male      13910\n",
       "Name: sex, dtype: int64"
      ]
     },
     "execution_count": 64,
     "metadata": {},
     "output_type": "execute_result"
    }
   ],
   "source": [
    "# Analizamos si el numero de Hombres y mujeres es balanceado\n",
    "\n",
    "print(\"Numero de hombres y Mujeres:\")\n",
    "count1 = data['sex'].value_counts()\n",
    "count1"
   ]
  },
  {
   "cell_type": "markdown",
   "metadata": {},
   "source": [
    "Vemos que el número de hombres y mujeres es igual, esta balanceado"
   ]
  },
  {
   "cell_type": "code",
   "execution_count": 65,
   "metadata": {},
   "outputs": [
    {
     "data": {
      "image/png": "[encoded data removed]",
      "text/plain": [
       "<Figure size 576x432 with 1 Axes>"
      ]
     },
     "metadata": {
      "needs_background": "light"
     },
     "output_type": "display_data"
    }
   ],
   "source": [
    "gender_data = data.groupby([\"year\", \"sex\"]).sum()\n",
    "gender_table = gender_data.pivot_table(index = \"year\", columns = \"sex\", \n",
    "                        values = \"suicides_no\", aggfunc = \"sum\")\n",
    "# Graficar\n",
    "plt.rcParams[\"figure.figsize\"] = [8, 6]\n",
    "gender_graph = gender_table.plot()\n",
    "\n",
    "gender_graph.spines[\"right\"].set_visible(False)\n",
    "gender_graph.spines[\"top\"].set_visible(False)\n",
    "\n",
    "plt.xlabel(\"Año\", size = 13)\n",
    "plt.ylabel(\"Total de Suicidios\", size = 13)\n",
    "plt.title(\"Fig. 3. Número total de Suicidios por Genero de 1985 a 2016\", \n",
    "          x = 0.45, y = -0.22,\n",
    "          size = 14, fontweight = \"bold\")\n",
    "\n",
    "gender_graph.set_axisbelow(True)\n",
    "gender_graph.yaxis.grid(color = \"gray\", linestyle = \"dashed\")"
   ]
  },
  {
   "cell_type": "markdown",
   "metadata": {},
   "source": [
    "#### Total de Suicidios por grupo de edad"
   ]
  },
  {
   "cell_type": "code",
   "execution_count": 66,
   "metadata": {},
   "outputs": [
    {
     "name": "stdout",
     "output_type": "stream",
     "text": [
      "Número de observaciones por grupo de edad: \n"
     ]
    },
    {
     "data": {
      "text/plain": [
       "75+ years      4642\n",
       "15-24 years    4642\n",
       "25-34 years    4642\n",
       "55-74 years    4642\n",
       "35-54 years    4642\n",
       "5-14 years     4610\n",
       "Name: age, dtype: int64"
      ]
     },
     "execution_count": 66,
     "metadata": {},
     "output_type": "execute_result"
    }
   ],
   "source": [
    "# Verificamos si las observaciones estan balanceadas\n",
    "\n",
    "print(\"Número de observaciones por grupo de edad: \")\n",
    "count = data['age'].value_counts()\n",
    "count"
   ]
  },
  {
   "cell_type": "code",
   "execution_count": 67,
   "metadata": {},
   "outputs": [
    {
     "data": {
      "image/png": "[encoded data removed]",
      "text/plain": [
       "<Figure size 576x432 with 1 Axes>"
      ]
     },
     "metadata": {
      "needs_background": "light"
     },
     "output_type": "display_data"
    }
   ],
   "source": [
    "age_table = data.pivot_table('suicides_no', index='age', aggfunc='sum')\n",
    "age_table.reset_index(level = 0, inplace = True)\n",
    "\n",
    "# Graficando\n",
    "# Colors of the bars de las barras\n",
    "colors = [\"b\", \"r\", \"g\", \"c\", \"m\", \"y\"]\n",
    "age_graph = age_table.plot(x = \"age\", y = \"suicides_no\", kind = \"bar\", \n",
    "                           width = 0.7, color = colors)\n",
    "\n",
    "plt.xlabel(\"Grupo de Edad\", size = 13)\n",
    "plt.ylabel(\"Total de Suicidios\", size = 13)\n",
    "plt.title(\"Fig. 4. Total de suicidios por edad\", \n",
    "          x = 0.33, y = -0.3,\n",
    "          size = 14, fontweight = \"bold\")\n",
    "plt.xticks(rotation = 30)\n",
    "\n",
    "age_graph.spines[\"right\"].set_visible(False)\n",
    "age_graph.spines[\"top\"].set_visible(False)\n",
    "\n",
    "# Removing the legend\n",
    "age_graph.get_legend().remove()\n",
    "\n",
    "age_graph.set_axisbelow(True)\n",
    "age_graph.yaxis.grid(color = \"gray\", linestyle = \"dashed\")"
   ]
  },
  {
   "cell_type": "markdown",
   "metadata": {},
   "source": [
    "#### Total de Suicidios por año y grupo de edad"
   ]
  },
  {
   "cell_type": "code",
   "execution_count": 68,
   "metadata": {},
   "outputs": [
    {
     "data": {
      "image/png": "[encoded data removed]",
      "text/plain": [
       "<Figure size 792x432 with 2 Axes>"
      ]
     },
     "metadata": {
      "needs_background": "light"
     },
     "output_type": "display_data"
    }
   ],
   "source": [
    "gender_age_data = data.groupby([\"year\", \"sex\", \"age\"]).suicides_no.sum().reset_index()\n",
    "\n",
    "# Grafica\n",
    "def plot(df, sex, age, ax, color):\n",
    "    _df = df.query(\"(sex == @sex) & (age == @age)\")\n",
    "    _df.plot(\n",
    "        kind = \"line\", x = \"year\", y = \"suicides_no\", ax = ax, color = color\n",
    ")\n",
    "    return ax\n",
    "fig, ax = plt.subplots(1, 2, figsize=(11, 6), sharey=True)\n",
    "\n",
    "# Naming the legends\n",
    "labels = [\"15-24 años\", \"35-54 añoss\", \"75+ años\", \"25-34 años\", \"55-74 años\", \"5-14 años\"]\n",
    "\n",
    "for (i, sex) in enumerate(gender_age_data.sex.unique()):\n",
    "    plot(gender_age_data, sex,\"15-24 years\", ax[i], \"b\")\n",
    "    plot(gender_age_data, sex,\"35-54 years\", ax[i], \"r\")\n",
    "    plot(gender_age_data, sex,\"75+ years\", ax[i], \"k\")\n",
    "    plot(gender_age_data, sex,\"25-34 years\", ax[i], \"y\")\n",
    "    plot(gender_age_data, sex,\"55-74 years\", ax[i], \"g\")\n",
    "    plot(gender_age_data, sex,\"5-14 years\", ax[i], \"m\")\n",
    "    ax[i].set_title(str(sex))\n",
    "    ax[i].legend(labels = labels)\n",
    "    \n",
    "\n",
    "for (i, _ax) in enumerate(ax):\n",
    "    \n",
    "    # setting axis labels\n",
    "    _ax.set_xlabel(\"Año\", size = 13)\n",
    "    _ax.set_ylabel(\"Total de Suicidios\", size = 13)\n",
    "    \n",
    "    _ax.spines['right'].set_visible(False)\n",
    "    _ax.spines['top'].set_visible(False)\n",
    "    \n",
    "    _ax.yaxis.grid(True)\n",
    "    \n",
    "\n",
    "plt.suptitle(\"Fig. 5. Total number of suicides by age and sex from 1985 to 2016\", x = 0.43, \n",
    "             y = -0.05, fontsize=15, fontweight = \"bold\")\n",
    "plt.show()"
   ]
  },
  {
   "cell_type": "markdown",
   "metadata": {},
   "source": [
    "#### Tasa de suicidios por años y paises"
   ]
  },
  {
   "cell_type": "code",
   "execution_count": null,
   "metadata": {},
   "outputs": [],
   "source": [
    "\n",
    "country_year_data = data.groupby(['country', 'year'], sort = True).sum()\n",
    "\n",
    "country_year_data_suicides = country_year_data[[\"suicides_per_100k_pop\"]].reset_index()\n",
    "country_year_data_suicides.columns = [\"country\", \"year\", \"Suicides per 100k Population\"]\n",
    "\n",
    "# Plotting\n",
    "country_year_graph = sns.FacetGrid(country_year_data_suicides, col = \"country\", col_wrap = 4, sharey = True)\n",
    "country_year_graph.map(plt.plot, \"year\", \"Suicides per 100k Population\", marker = \".\")\n",
    "plt.show()"
   ]
  },
  {
   "cell_type": "code",
   "execution_count": 35,
   "metadata": {},
   "outputs": [
    {
     "data": {
      "text/html": [
       "<div>\n",
       "<style scoped>\n",
       "    .dataframe tbody tr th:only-of-type {\n",
       "        vertical-align: middle;\n",
       "    }\n",
       "\n",
       "    .dataframe tbody tr th {\n",
       "        vertical-align: top;\n",
       "    }\n",
       "\n",
       "    .dataframe thead th {\n",
       "        text-align: right;\n",
       "    }\n",
       "</style>\n",
       "<table border=\"1\" class=\"dataframe\">\n",
       "  <thead>\n",
       "    <tr style=\"text-align: right;\">\n",
       "      <th></th>\n",
       "      <th>country</th>\n",
       "      <th>suicides_per_100k_pop</th>\n",
       "    </tr>\n",
       "  </thead>\n",
       "  <tbody>\n",
       "    <tr>\n",
       "      <th>75</th>\n",
       "      <td>Russian Federation</td>\n",
       "      <td>11305.13</td>\n",
       "    </tr>\n",
       "    <tr>\n",
       "      <th>52</th>\n",
       "      <td>Lithuania</td>\n",
       "      <td>10588.88</td>\n",
       "    </tr>\n",
       "    <tr>\n",
       "      <th>40</th>\n",
       "      <td>Hungary</td>\n",
       "      <td>10156.07</td>\n",
       "    </tr>\n",
       "    <tr>\n",
       "      <th>47</th>\n",
       "      <td>Kazakhstan</td>\n",
       "      <td>9519.52</td>\n",
       "    </tr>\n",
       "    <tr>\n",
       "      <th>73</th>\n",
       "      <td>Republic of Korea</td>\n",
       "      <td>9350.45</td>\n",
       "    </tr>\n",
       "  </tbody>\n",
       "</table>\n",
       "</div>"
      ],
      "text/plain": [
       "               country  suicides_per_100k_pop\n",
       "75  Russian Federation               11305.13\n",
       "52           Lithuania               10588.88\n",
       "40             Hungary               10156.07\n",
       "47          Kazakhstan                9519.52\n",
       "73   Republic of Korea                9350.45"
      ]
     },
     "execution_count": 35,
     "metadata": {},
     "output_type": "execute_result"
    }
   ],
   "source": [
    "\n",
    "country_data = data.groupby(\"country\").sum()\n",
    "country_data_suicides = country_data[[\"suicides_per_100k_pop\"]].reset_index()\n",
    "country_data_suicides = country_data_suicides.sort_values(\"suicides_per_100k_pop\", ascending = False)\n",
    "country_data_suicides.head()"
   ]
  },
  {
   "cell_type": "markdown",
   "metadata": {},
   "source": [
    "#### PIB per Capita y tasa de Suicidios"
   ]
  },
  {
   "cell_type": "code",
   "execution_count": 38,
   "metadata": {},
   "outputs": [
    {
     "data": {
      "image/png": "[encoded data removed]",
      "text/plain": [
       "<Figure size 576x432 with 1 Axes>"
      ]
     },
     "metadata": {
      "needs_background": "light"
     },
     "output_type": "display_data"
    }
   ],
   "source": [
    "avg_gdp_data = data.groupby(\"country\").agg({\"suicides_no\": \"sum\",\n",
    "                                  \"suicides_per_100k_pop\": \"sum\",         \n",
    "                                  \"gdp_per_capita\": \"mean\",\n",
    "                                  \"gdp_for_year\": \"mean\"}).reset_index()\n",
    "\n",
    "# Plotting\n",
    "plt.rcParams[\"figure.figsize\"] = [8, 6]\n",
    "avg_gdp_graph = avg_gdp_data.plot(x = \"gdp_per_capita\", y = \"suicides_per_100k_pop\", kind = \"scatter\")\n",
    "\n",
    "avg_gdp_graph.set_xlabel(\"PIB promedio per Capita\", size = 13)\n",
    "avg_gdp_graph.set_ylabel(\"Total de suicidios por 100mil habitantes\", size = 13)\n",
    "avg_gdp_graph.set_title(\"Fig. 5. Relación entre el PIB promedio per cápita \\n y el total de suicidios por cada 100.000 habitantes entre 1985 y 2016 \", \n",
    "                        size = 14,\n",
    "                        x = 0.5, y = -0.3,\n",
    "                        fontweight = \"bold\")\n",
    "\n",
    "avg_gdp_graph.spines[\"right\"].set_visible(False)\n",
    "avg_gdp_graph.spines[\"top\"].set_visible(False)\n",
    "\n",
    "avg_gdp_graph.set_axisbelow(True)\n",
    "avg_gdp_graph.yaxis.grid(color = \"gray\", linestyle = \"dashed\")"
   ]
  },
  {
   "cell_type": "markdown",
   "metadata": {},
   "source": [
    "#### Relación entre el PIB promedio per cápita \\n y el total de suicidios por cada 100.000 habitantes entre 1985 y 2016"
   ]
  },
  {
   "cell_type": "code",
   "execution_count": 40,
   "metadata": {},
   "outputs": [
    {
     "data": {
      "image/png": "[encoded data removed]",
      "text/plain": [
       "<Figure size 576x432 with 1 Axes>"
      ]
     },
     "metadata": {
      "needs_background": "light"
     },
     "output_type": "display_data"
    }
   ],
   "source": [
    "\n",
    "gdp_suicides_data= data.pivot_table([\"suicides_per_100k_pop\", \"gdp_per_capita\"],\n",
    "                      index = \"year\", aggfunc = \"mean\")\n",
    "\n",
    "# Normalizacion\n",
    "normalized = (gdp_suicides_data - gdp_suicides_data.mean())/ gdp_suicides_data.std()\n",
    "normalized.columns = [\"PIB_per_capita Normalizado\", \"Tasa de suicidios por cada 100 mil hab normalizada\"]\n",
    "\n",
    "# Grafico\n",
    "plt.rcParams[\"figure.figsize\"] = [8, 6]\n",
    "ax = normalized.plot()\n",
    "\n",
    "ax.set_xlabel(\"Año\", size = 13)\n",
    "ax.set_ylabel(\"Normalizado\", size = 13)\n",
    "ax.set_title(\"Fig. 6.Comparación del promedio mundial del PIB per cápita y la tasa de suicidios \", \n",
    "                        size = 14,\n",
    "                        x = 0.5, y = -0.2,\n",
    "                        fontweight = \"bold\")\n",
    "\n",
    "ax.spines[\"right\"].set_visible(False)\n",
    "ax.spines[\"top\"].set_visible(False)\n",
    "\n",
    "ax.set_axisbelow(True)\n",
    "ax.yaxis.grid(color = \"gray\", linestyle = \"dashed\")"
   ]
  },
  {
   "cell_type": "markdown",
   "metadata": {},
   "source": [
    "#### Numero de observaciones en cada clase"
   ]
  },
  {
   "cell_type": "code",
   "execution_count": 41,
   "metadata": {},
   "outputs": [
    {
     "name": "stdout",
     "output_type": "stream",
     "text": [
      "Numero de observaciones en cada clase:\n"
     ]
    },
    {
     "data": {
      "text/plain": [
       "0    19061\n",
       "1     8759\n",
       "Name: risk, dtype: int64"
      ]
     },
     "execution_count": 41,
     "metadata": {},
     "output_type": "execute_result"
    }
   ],
   "source": [
    "print(\"Numero de observaciones en cada clase:\")\n",
    "count = data['risk'].value_counts()\n",
    "count"
   ]
  },
  {
   "cell_type": "code",
   "execution_count": 42,
   "metadata": {},
   "outputs": [
    {
     "name": "stdout",
     "output_type": "stream",
     "text": [
      "Numero de observaciones en cada clase despues del balanceo:\n"
     ]
    },
    {
     "data": {
      "text/plain": [
       "1    19061\n",
       "0    19061\n",
       "Name: risk, dtype: int64"
      ]
     },
     "execution_count": 42,
     "metadata": {},
     "output_type": "execute_result"
    }
   ],
   "source": [
    "# Vemos que la data no esta balanceada\n",
    "\n",
    "majority = data[data.risk == 0]\n",
    "minority = data[data.risk == 1]\n",
    "\n",
    "upsampled = resample(minority, replace=True,     \n",
    "                                n_samples=19061, \n",
    "                                random_state=123)\n",
    "\n",
    "df= pd.concat([majority, upsampled])\n",
    "\n",
    "print(\"Numero de observaciones en cada clase despues del balanceo:\")\n",
    "df.risk.value_counts()"
   ]
  },
  {
   "cell_type": "code",
   "execution_count": 43,
   "metadata": {},
   "outputs": [],
   "source": [
    "# Preparando la data para la clasificacion \n",
    "\n",
    "# Conviertiendo variables categoricas a numericas\n",
    "le = LabelEncoder()\n",
    "df[\"country\"] = le.fit_transform(df[\"country\"])\n",
    "\n",
    "df[\"sex\"] = le.fit_transform(df[\"sex\"])\n",
    "\n",
    "df.generation.replace([\"G.I. Generation\", \"Silent\", \"Boomers\", \"Generation X\", \"Millenials\", \"Generation Z\"],\n",
    "                     [\"0\", \"1\", \"2\", \"3\", \"4\", \"5\"], inplace = True)\n",
    "\n",
    "# Cambiando el tipo de dato a generacion\n",
    "\n",
    "df[\"generation\"] = df[\"generation\"].astype(int)\n",
    "\n",
    "# Reemplazando el grupo de edad por sus promedios\n",
    "df.age.replace([\"5-14 years\", \"15-24 years\", \"25-34 years\", \n",
    "                \"35-54 years\", \"55-74 years\", \"75+ years\"],\n",
    "              [np.array([5,14]).mean(), np.array([15,24]).mean(), np.array([25,34]).mean(), \n",
    "               np.array([35,54]).mean(), np.array([55,74]).mean(), np.array([75]).mean()],\n",
    "               inplace = True\n",
    "              )"
   ]
  },
  {
   "cell_type": "markdown",
   "metadata": {},
   "source": [
    "#### Clasificacion"
   ]
  },
  {
   "cell_type": "code",
   "execution_count": 45,
   "metadata": {},
   "outputs": [
    {
     "name": "stdout",
     "output_type": "stream",
     "text": [
      "Numero de observaciones y columnas\n",
      "Conjunto de entrenamiento:\n",
      "(28591, 9)\n",
      "(28591,)\n",
      "Conjunto de Testeo:\n",
      "(9531, 9)\n",
      "(9531,)\n"
     ]
    }
   ],
   "source": [
    "# Separando la varaible objetivo y sus predictoras\n",
    "\n",
    "X = df.drop([\"risk\", \"country-year\", \"suicides_per_100k_pop\"], axis = 1)\n",
    "y = df[\"risk\"]\n",
    "\n",
    "# Escalando X\n",
    "scaled_X = (X-X.mean())/ X.std()\n",
    "\n",
    "# Conjunto de entrenamiento  y testeo\n",
    "X_train, X_test, y_train, y_test = model_selection.train_test_split(scaled_X, y, test_size=0.25, random_state = 40)\n",
    "\n",
    "# Numero de filas y columnas\n",
    "print(\"Numero de observaciones y columnas\")\n",
    "print(\"Conjunto de entrenamiento:\")\n",
    "print(X_train.shape)\n",
    "print(y_train.shape)\n",
    "print(\"Conjunto de Testeo:\")\n",
    "print(X_test.shape)\n",
    "print(y_test.shape)"
   ]
  },
  {
   "cell_type": "markdown",
   "metadata": {},
   "source": [
    "#### Logistic Regression"
   ]
  },
  {
   "cell_type": "code",
   "execution_count": 46,
   "metadata": {},
   "outputs": [
    {
     "name": "stdout",
     "output_type": "stream",
     "text": [
      "\u001b[1m Logistic regression precision : \u001b[0m\n",
      " Precision de Entrenamiento: 0.9124899443880942\n",
      "Presicion de Testeo: 0.9173224215717134\n",
      "\n",
      "\u001b[1m Matriz Confusion para el logistic regression: \u001b[0m\n",
      "[[4376  369]\n",
      " [ 419 4367]]\n",
      "\n",
      "\u001b[1m Reporte Logistic regression : \u001b[0m\n",
      "              precision    recall  f1-score   support\n",
      "\n",
      "           0       0.91      0.92      0.92      4745\n",
      "           1       0.92      0.91      0.92      4786\n",
      "\n",
      "    accuracy                           0.92      9531\n",
      "   macro avg       0.92      0.92      0.92      9531\n",
      "weighted avg       0.92      0.92      0.92      9531\n",
      "\n"
     ]
    }
   ],
   "source": [
    "logistic_model = linear_model.LogisticRegression(solver = \"lbfgs\")\n",
    "logistic_model.fit(X_train, y_train)\n",
    "\n",
    "lr_pred = logistic_model.predict(X_test)\n",
    "\n",
    "# Entrenando y testeando la exactitud\n",
    "\n",
    "lr_train_acc = logistic_model.score(X_train, y_train)\n",
    "lr_test_acc = logistic_model.score(X_test, y_test)\n",
    "\n",
    "print(\"\\033[1m Logistic regression precision : \\033[0m\")\n",
    "print(f\" Precision de Entrenamiento: {lr_train_acc}\")\n",
    "print(f\"Presicion de Testeo: {lr_test_acc}\")\n",
    "print(\"\")\n",
    "\n",
    "lm_con_mat = metrics.confusion_matrix(y_test, lr_pred)\n",
    "print(\"\\033[1m Matriz Confusion para el logistic regression: \\033[0m\")\n",
    "print(lm_con_mat)\n",
    "print(\"\")\n",
    "\n",
    "lr_report = metrics.classification_report(y_test, lr_pred)\n",
    "print(\"\\033[1m Reporte Logistic regression : \\033[0m\")\n",
    "print(lr_report)"
   ]
  },
  {
   "cell_type": "code",
   "execution_count": null,
   "metadata": {},
   "outputs": [],
   "source": []
  }
 ],
 "metadata": {
  "kernelspec": {
   "display_name": "Python 3",
   "language": "python",
   "name": "python3"
  },
  "language_info": {
   "codemirror_mode": {
    "name": "ipython",
    "version": 3
   },
   "file_extension": ".py",
   "mimetype": "text/x-python",
   "name": "python",
   "nbconvert_exporter": "python",
   "pygments_lexer": "ipython3",
   "version": "3.7.7"
  }
 },
 "nbformat": 4,
 "nbformat_minor": 4
}
